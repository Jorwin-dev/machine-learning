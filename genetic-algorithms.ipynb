{
 "cells": [
  {
   "cell_type": "markdown",
   "metadata": {},
   "source": [
    "Genetic Algorithm - An algorithm that pits different solutions against each other and uses selection to \"evolve\" them into the best solution."
   ]
  },
  {
   "cell_type": "markdown",
   "metadata": {},
   "source": [
    "Genetic algorithms efficiently explore the solution space to discover optimal or near-optimal solutions."
   ]
  },
  {
   "cell_type": "markdown",
   "metadata": {},
   "source": [
    "By mimicking the process of natural selection, GAs can evolve solutions over time, improving their performance iteratively. "
   ]
  },
  {
   "cell_type": "markdown",
   "metadata": {},
   "source": [
    "Genetic Algorithms were inspired by evolution. Consequently, the components of a GA share names and functions similar to those of their biological counterparts. "
   ]
  },
  {
   "cell_type": "markdown",
   "metadata": {},
   "source": [
    "---"
   ]
  },
  {
   "cell_type": "markdown",
   "metadata": {},
   "source": [
    "**Key Terminology**"
   ]
  },
  {
   "cell_type": "markdown",
   "metadata": {},
   "source": [
    "**Chromosomes** - potential solutions to a problem, typically coded as strings or arrays. Each element in a chromosome corresponds to a gene that determines a specific trait of the solution. "
   ]
  },
  {
   "cell_type": "markdown",
   "metadata": {},
   "source": [
    "**Crossover** - involves exchanging segments of the *'parent'* chromosomes to create new *'individuals'*. This operation introduces variability and allows the *'offspring'* to inherit beneficial traits from both *'parents'*."
   ]
  },
  {
   "cell_type": "markdown",
   "metadata": {},
   "source": [
    "**Mutation** - randomly altering one or more genes. "
   ]
  },
  {
   "cell_type": "markdown",
   "metadata": {},
   "source": [
    "---"
   ]
  },
  {
   "cell_type": "markdown",
   "metadata": {},
   "source": [
    "**Components of a Genetic Algorithm**"
   ]
  },
  {
   "cell_type": "markdown",
   "metadata": {},
   "source": [
    "**Population** - a set of candidate solutions, often called individuals. Each individual is represented as a chromosome, which can be coded as binary strings, arrays, or other data structures. "
   ]
  },
  {
   "cell_type": "markdown",
   "metadata": {},
   "source": [
    "**Fitness Function** - evaluates each individual's ability to solve the problem we're interested in. It assigns a fitness value to each individual, with higher values for better solutions. The fitness function guides the algorithm toward better solutions. "
   ]
  },
  {
   "cell_type": "markdown",
   "metadata": {},
   "source": [
    "**Selection Function** - chooses individuals from the population to reproduce based on their fitness. Individuals with a higher fitness are more likely to be chosen for reproduction. There are a few different selection methods:\n",
    "- **Roulette Wheel Selection** is where individuals are selected based on a probability proportional to their fitness, similar to spinning a roulette wheel. \n",
    "- **Tournament Selection** is where a subset of individuals is chosen at random and the fittest individual from this subset is selected.\n",
    "- **Rank-based Selection** ranks individuals based on their fitness, then selection probabilities are assigned based on these ranks rather than raw fitness values. "
   ]
  },
  {
   "cell_type": "markdown",
   "metadata": {},
   "source": [
    "**Crossover Function** - combines information from two individuals to create offspring; the goal is to inherit beneficial traits from both parents. Common crossover techniques include:\n",
    "- **Single-point Crossover** which involves choosing a random point and swapping the genetic material from two parents at that point to create two offspring. \n",
    "- **Multi-point Crossover** uses multiple points for swapping segments between parents, allowing for more complex genetic combinations.\n",
    "- **Uniform Crossover** randomly decides which parent will contribute each gene, providing a high level of genetic diversity.\n",
    "- **Blend Crossover** generates offspring by blending the genes of the parents using a random blending factor."
   ]
  },
  {
   "cell_type": "markdown",
   "metadata": {},
   "source": [
    "**Mutation Function** - mutations introduce random changes in the offspring's genetic material. This helps maintain diversity in the population and explores new areas of the solution space. "
   ]
  },
  {
   "cell_type": "markdown",
   "metadata": {},
   "source": [
    "---"
   ]
  },
  {
   "cell_type": "markdown",
   "metadata": {},
   "source": [
    "**The Genetic Algorithm Process**"
   ]
  },
  {
   "cell_type": "markdown",
   "metadata": {},
   "source": [
    "A genetic algorithm goes through a series of steps that mimic natural evolutionary processes to find optimal solutions. These steps allow the population to evolve over generations, improving the quality of solutions. This is generally how a genetic algorithm proceeds:"
   ]
  },
  {
   "cell_type": "markdown",
   "metadata": {},
   "source": [
    "**Step 1: Initialization**\n",
    "First generate an initial population of random individuals. This step creates a diverse set of potential solutions to start the algorithm. \n",
    "\n",
    "**Step 2: Evaluation**\n",
    "Next calculate the fitness of each individual in the population. Here we use the fitness function to evaluate how good each solution is.\n",
    "\n",
    "**Step 3: Selection**\n",
    "Using the selection criteria, we select individuals for reproduction based on their fitness. This step determines which individuals will be parents.\n",
    "\n",
    "**Step 4: Crossover**\n",
    "Crossover is done by combining the genetic material of selected parents, we apply crossover techniques to generate new solutions or offspring.\n",
    "\n",
    "**Step 5: Mutation**\n",
    "To maintain diversity in our population, we need to introduce random mutations in the offspring.\n",
    "\n",
    "**Step 6: Replacement**\n",
    "We replace some or all of the old population with the new offspring, by determining which individuals move on to the next generation.\n",
    "\n",
    "**Step 7: Repeat**\n",
    "The previous steps 2-6 are looped over for a set number of generations or until a termination condition is met. This loop allows the population to evolve over time, hopefully resulting in a good solution."
   ]
  },
  {
   "cell_type": "markdown",
   "metadata": {},
   "source": [
    "---"
   ]
  },
  {
   "cell_type": "markdown",
   "metadata": {},
   "source": [
    "Imports"
   ]
  },
  {
   "cell_type": "code",
   "execution_count": 4,
   "metadata": {},
   "outputs": [],
   "source": [
    "import random   # Generate random values for starting population\n",
    "import matplotlib.pyplot as plt\n",
    "import numpy as np"
   ]
  },
  {
   "cell_type": "markdown",
   "metadata": {},
   "source": [
    "Define Fitness Function"
   ]
  },
  {
   "cell_type": "code",
   "execution_count": 5,
   "metadata": {},
   "outputs": [],
   "source": [
    "def fitness_function(params):\n",
    "    a, b, c = params\n",
    "    if a < 0:\n",
    "        return -float('inf')    # Penalize downward facing u-shapes heavily\n",
    "    vertex_x = -b / (2 * a)     # x value at vertex\n",
    "    vertex_y = a * (vertex_x ** 2) + b * vertex_x + c  # y value at vertex\n",
    "    y_left = a * (-1) ** 2 + b * (-1) + c   # y-coordinate at x = -1\n",
    "    y_right = a * (1) ** 2 + b * (1) + c    # y-coordinate at x = 1\n",
    "    curviness = abs(y_left - vertex_y) + abs(y_right = vertex_y)\n",
    "    return -curviness   # Negate to minimize curviness"
   ]
  },
  {
   "cell_type": "markdown",
   "metadata": {},
   "source": [
    "Create initial population"
   ]
  },
  {
   "cell_type": "code",
   "execution_count": 6,
   "metadata": {},
   "outputs": [],
   "source": [
    "def create_initial_population(size, lower_bound, upper_bound):\n",
    "    population = []\n",
    "    for _ in range(size):\n",
    "        individual = (random.uniform(lower_bound, upper_bound),\n",
    "                      random.uniform(lower_bound, upper_bound),\n",
    "                      random.uniform(lower_bound, upper_bound))\n",
    "        population.append(individual)\n",
    "    return population"
   ]
  },
  {
   "cell_type": "markdown",
   "metadata": {},
   "source": [
    "Create a selection function"
   ]
  },
  {
   "cell_type": "code",
   "execution_count": 7,
   "metadata": {},
   "outputs": [],
   "source": [
    "def selection(population, fitnesses, tournament_size=3):\n",
    "    selected = []\n",
    "    for _ in range(len(population)):\n",
    "        tournament = random.sample(list(zip(population, fitnesses)), tournament_size)\n",
    "        winner = max(tournament, key=lambda x: x[1])[0]\n",
    "        selected.append(winner)\n",
    "    return selected"
   ]
  },
  {
   "cell_type": "markdown",
   "metadata": {},
   "source": [
    "Make a Crossover function"
   ]
  },
  {
   "cell_type": "code",
   "execution_count": 8,
   "metadata": {},
   "outputs": [],
   "source": [
    "def crossover(parent1, parent2):\n",
    "    alpha = random.random()\n",
    "    child1 = tuple(alpha * p1 + (1-alpha) * p2 for p1, p2 in zip(parent1, parent2))\n",
    "    child2 = tuple(alpha * p1 + (1-alpha) * p2 for p1, p2 in zip(parent1, parent2))\n",
    "    return child1, child2"
   ]
  },
  {
   "cell_type": "markdown",
   "metadata": {},
   "source": [
    "Design a mutation function"
   ]
  },
  {
   "cell_type": "code",
   "execution_count": 9,
   "metadata": {},
   "outputs": [],
   "source": [
    "def mutation(individual, mutation_rate, lower_bound, upper_bound):\n",
    "    individual = list(individual)\n",
    "    for i in range(len(individual)):\n",
    "        if random.random() < mutation_rate:\n",
    "            mutation_amount = random.uniform(-1, 1)\n",
    "            individual[i] += mutation_amount\n",
    "            # Ensure the individual stays within upper bounds\n",
    "            individual[i] = max(min(individual[i], upper_bound), lower_bound)\n",
    "    return tuple(individual)"
   ]
  },
  {
   "cell_type": "markdown",
   "metadata": {},
   "source": [
    "Main Loop"
   ]
  },
  {
   "cell_type": "code",
   "execution_count": 10,
   "metadata": {},
   "outputs": [],
   "source": [
    "def genetic_algorithm(population_size, lower_bound, upper_bound, generations, mutation_rate):\n",
    "    population = create_initial_population(population_size, lower_bound, upper_bound)\n",
    "\n",
    "    # Prepare for plotting\n",
    "    fig, axs = plt.subplots(3, 1, figsize=(12, 18))\n",
    "    best_performers = []\n",
    "    all_populations = []\n",
    "\n",
    "    print(\"\\n{:<10} {:<10} {:<10} {:<10} {:<15}\".format(\"Generation\", \"a\", \"b\", \"c\", \"Fitness\"))\n",
    "    print(\"=\" * 60)\n",
    "    \n",
    "    for generation in range(generations):\n",
    "        fitnesses = [fitness_function(ind) for ind in population]\n",
    "\n",
    "        # Store the best performer of the current generation\n",
    "        best_individual = max(population, key=fitness_function)\n",
    "        best_fitness = fitness_function(best_individual)\n",
    "        best_performers.append((best_individual, best_fitness))\n",
    "        all_populations.append(population[:])\n",
    "\n",
    "        # Print generation results in table format\n",
    "        print(\"{:<10} {:<10.4f} {:<10.4f} {:<10.4f} {:<15.4f}\".format(\n",
    "            generation + 1, best_individual[0], best_individual[1], best_individual[2], best_fitness))\n",
    "\n",
    "        # Selection and reproduction\n",
    "        population = selection(population, fitnesses)\n",
    "        next_population = []\n",
    "\n",
    "        for i in range(0, len(population, 2)):\n",
    "            parent1 = population[i]\n",
    "            parent2 = population[i + 1]\n",
    "            child1, child2 = crossover(parent1, parent2)\n",
    "            next_population.append(mutation(child1, mutation_rate, lower_bound, upper_bound))\n",
    "            next_population.append(mutation(child2, mutation_rate, lower_bound, upper_bound))\n",
    "\n",
    "            # Replace the old population with the new one, preserving the best individual\n",
    "            next_population[0] = best_individual\n",
    "            population = next_population\n",
    "\n",
    "        # Print the table\n",
    "        print(\"=\" * 60)\n",
    "\n",
    "        # Plot the population of one generation (last generation)\n",
    "        final_population = all_populations[-1]\n",
    "        final_fitnesses = [fitness_function(ind) for ind in final_population]\n",
    "\n",
    "        axs[0].scatter(range(len(final_population)), [ind[0] for ind in final_population], color='blue', label='a')\n",
    "        axs[0].scatter([final_population.index(best_individual)], [best_individual[0]], color='cyan', s=100, label='Best Individual a')\n",
    "        axs[0].set_ylabel('a', color='blue')\n",
    "        axs[0].legend(loc='upper left')\n",
    "    \n",
    "        axs[1].scatter(range(len(final_population)), [ind[1] for ind in final_population], color='green', label='b')\n",
    "        axs[1].scatter([final_population.index(best_individual)], [best_individual[1]], color='magenta', s=100, label='Best Individual b')\n",
    "        axs[1].set_ylabel('b', color='green')\n",
    "        axs[1].legend(loc='upper left')\n",
    "    \n",
    "        axs[2].scatter(range(len(final_population)), [ind[2] for ind in final_population], color='red', label='c')\n",
    "        axs[2].scatter([final_population.index(best_individual)], [best_individual[2]], color='yellow', s=100, label='Best Individual c')\n",
    "        axs[2].set_ylabel('c', color='red')\n",
    "        axs[2].set_xlabel('Individual Index')\n",
    "        axs[2].legend(loc='upper left')\n",
    "    \n",
    "        axs[0].set_title(f'Final Generation ({generations}) Population Solutions')\n",
    "\n",
    "        # Plot the values of a, b, and c over generations\n",
    "        generations_list = range(1, len(best_performers) + 1)\n",
    "        a_values = [ind[0][0] for ind in best_performers]\n",
    "        b_values = [ind[0][1] for ind in best_performers]\n",
    "        c_values = [ind[0][2] for ind in best_performers]\n",
    "        fig, ax = plt.subplots()\n",
    "        ax.plot(generations_list, a_values, label='a', color='blue')\n",
    "        ax.plot(generations_list, b_values, label='b', color='green')\n",
    "        ax.plot(generations_list, c_values, label='c', color='red')\n",
    "        ax.set_xlabel('Generation')\n",
    "        ax.set_ylabel('Parameter Values')\n",
    "        ax.set_title('Parameter Values Over Generations')\n",
    "        ax.legend()\n",
    "\n",
    "        # Plot the fitness values over generations\n",
    "        best_fitness_values = [fit[1] for fit in best_performers]\n",
    "        min_fitness_values = [min([fitness_function(ind) for ind in population]) for population in all_populations]\n",
    "        max_fitness_values = [max([fitness_function(ind) for ind in population]) for population in all_populations]\n",
    "        fig, ax = plt.subplots()\n",
    "        ax.plot(generations_list, best_fitness_values, label='Best Fitness', color='black')\n",
    "        ax.fill_between(generations_list, min_fitness_values, max_fitness_values, color='gray', alpha=0.5, label='Fitness Range')\n",
    "        ax.set_xlabel('Generation')\n",
    "        ax.set_ylabel('Fitness')\n",
    "        ax.set_title('Fitness Over Generations')\n",
    "        ax.legend()\n",
    "\n",
    "        # Plot the quadratic function for each generation\n",
    "        fig, ax = plt.subplots()\n",
    "        colors = plt.cm.viridis(np.linspace(0, 1, generations))\n",
    "        for i, (best_ind, best_fit) in enumerate(best_performers):\n",
    "            color = colors[i]\n",
    "            a, b, c = best_ind\n",
    "            x_range = np.linspace(lower_bound, upper_bound, 400)\n",
    "            y_values = a * (x_range ** 2) + b * x_range + c\n",
    "            ax.plot(x_range, y_values, color=color)\n",
    "\n",
    "        ax.set_xlabel('x')\n",
    "        ax.set_ylabel('y')\n",
    "        ax.set_title('Quadratic Function')\n",
    "\n",
    "        # Create a subplot for the colorbar\n",
    "        cax = fig.add_axes([0.92, 0.2, 0.02, 0.6])  # [left, bottom, width, height]\n",
    "        norm = plt.cm.colors.Normalize(vmin=0, vmax=generations)\n",
    "        sm = plt.cm.ScalarMappable(cmap='viridis', norm=norm)\n",
    "        sm.set_array([])\n",
    "        fig.colorbar(sm, ax=ax, cax=cax, orientation='vertical', label='Generation')\n",
    "\n",
    "        plt.show()\n",
    "\n",
    "        return max(population, key=fitness_function)\n"
   ]
  },
  {
   "cell_type": "markdown",
   "metadata": {},
   "source": [
    "Making it all run"
   ]
  },
  {
   "cell_type": "code",
   "execution_count": 11,
   "metadata": {},
   "outputs": [
    {
     "name": "stdout",
     "output_type": "stream",
     "text": [
      "\n",
      "Generation a          b          c          Fitness        \n",
      "============================================================\n"
     ]
    },
    {
     "ename": "TypeError",
     "evalue": "abs() takes no keyword arguments",
     "output_type": "error",
     "traceback": [
      "\u001b[1;31m---------------------------------------------------------------------------\u001b[0m",
      "\u001b[1;31mTypeError\u001b[0m                                 Traceback (most recent call last)",
      "Cell \u001b[1;32mIn[11], line 9\u001b[0m\n\u001b[0;32m      6\u001b[0m mutation_rate \u001b[38;5;241m=\u001b[39m \u001b[38;5;241m1\u001b[39m\n\u001b[0;32m      8\u001b[0m \u001b[38;5;66;03m# Run the GA\u001b[39;00m\n\u001b[1;32m----> 9\u001b[0m best_solution \u001b[38;5;241m=\u001b[39m \u001b[43mgenetic_algorithm\u001b[49m\u001b[43m(\u001b[49m\u001b[43mpopulation_size\u001b[49m\u001b[43m,\u001b[49m\u001b[43m \u001b[49m\u001b[43mlower_bound\u001b[49m\u001b[43m,\u001b[49m\u001b[43m \u001b[49m\u001b[43mupper_bound\u001b[49m\u001b[43m,\u001b[49m\u001b[43m \u001b[49m\u001b[43mgenerations\u001b[49m\u001b[43m,\u001b[49m\u001b[43m \u001b[49m\u001b[43mmutation_rate\u001b[49m\u001b[43m)\u001b[49m\n\u001b[0;32m     10\u001b[0m \u001b[38;5;28mprint\u001b[39m(\u001b[38;5;124mf\u001b[39m\u001b[38;5;124m\"\u001b[39m\u001b[38;5;124mBest solution found: a = \u001b[39m\u001b[38;5;132;01m{\u001b[39;00mbest_solution[\u001b[38;5;241m0\u001b[39m]\u001b[38;5;132;01m}\u001b[39;00m\u001b[38;5;124m, b = \u001b[39m\u001b[38;5;132;01m{\u001b[39;00mbest_solution[\u001b[38;5;241m1\u001b[39m]\u001b[38;5;132;01m}\u001b[39;00m\u001b[38;5;124m, c = \u001b[39m\u001b[38;5;132;01m{\u001b[39;00mbest_solution[\u001b[38;5;241m2\u001b[39m]\u001b[38;5;132;01m}\u001b[39;00m\u001b[38;5;124m\"\u001b[39m)\n",
      "Cell \u001b[1;32mIn[10], line 13\u001b[0m, in \u001b[0;36mgenetic_algorithm\u001b[1;34m(population_size, lower_bound, upper_bound, generations, mutation_rate)\u001b[0m\n\u001b[0;32m     10\u001b[0m \u001b[38;5;28mprint\u001b[39m(\u001b[38;5;124m\"\u001b[39m\u001b[38;5;124m=\u001b[39m\u001b[38;5;124m\"\u001b[39m \u001b[38;5;241m*\u001b[39m \u001b[38;5;241m60\u001b[39m)\n\u001b[0;32m     12\u001b[0m \u001b[38;5;28;01mfor\u001b[39;00m generation \u001b[38;5;129;01min\u001b[39;00m \u001b[38;5;28mrange\u001b[39m(generations):\n\u001b[1;32m---> 13\u001b[0m     fitnesses \u001b[38;5;241m=\u001b[39m [\u001b[43mfitness_function\u001b[49m\u001b[43m(\u001b[49m\u001b[43mind\u001b[49m\u001b[43m)\u001b[49m \u001b[38;5;28;01mfor\u001b[39;00m ind \u001b[38;5;129;01min\u001b[39;00m population]\n\u001b[0;32m     15\u001b[0m     \u001b[38;5;66;03m# Store the best performer of the current generation\u001b[39;00m\n\u001b[0;32m     16\u001b[0m     best_individual \u001b[38;5;241m=\u001b[39m \u001b[38;5;28mmax\u001b[39m(population, key\u001b[38;5;241m=\u001b[39mfitness_function)\n",
      "Cell \u001b[1;32mIn[5], line 9\u001b[0m, in \u001b[0;36mfitness_function\u001b[1;34m(params)\u001b[0m\n\u001b[0;32m      7\u001b[0m y_left \u001b[38;5;241m=\u001b[39m a \u001b[38;5;241m*\u001b[39m (\u001b[38;5;241m-\u001b[39m\u001b[38;5;241m1\u001b[39m) \u001b[38;5;241m*\u001b[39m\u001b[38;5;241m*\u001b[39m \u001b[38;5;241m2\u001b[39m \u001b[38;5;241m+\u001b[39m b \u001b[38;5;241m*\u001b[39m (\u001b[38;5;241m-\u001b[39m\u001b[38;5;241m1\u001b[39m) \u001b[38;5;241m+\u001b[39m c   \u001b[38;5;66;03m# y-coordinate at x = -1\u001b[39;00m\n\u001b[0;32m      8\u001b[0m y_right \u001b[38;5;241m=\u001b[39m a \u001b[38;5;241m*\u001b[39m (\u001b[38;5;241m1\u001b[39m) \u001b[38;5;241m*\u001b[39m\u001b[38;5;241m*\u001b[39m \u001b[38;5;241m2\u001b[39m \u001b[38;5;241m+\u001b[39m b \u001b[38;5;241m*\u001b[39m (\u001b[38;5;241m1\u001b[39m) \u001b[38;5;241m+\u001b[39m c    \u001b[38;5;66;03m# y-coordinate at x = 1\u001b[39;00m\n\u001b[1;32m----> 9\u001b[0m curviness \u001b[38;5;241m=\u001b[39m \u001b[38;5;28mabs\u001b[39m(y_left \u001b[38;5;241m-\u001b[39m vertex_y) \u001b[38;5;241m+\u001b[39m \u001b[38;5;28;43mabs\u001b[39;49m\u001b[43m(\u001b[49m\u001b[43my_right\u001b[49m\u001b[43m \u001b[49m\u001b[38;5;241;43m=\u001b[39;49m\u001b[43m \u001b[49m\u001b[43mvertex_y\u001b[49m\u001b[43m)\u001b[49m\n\u001b[0;32m     10\u001b[0m \u001b[38;5;28;01mreturn\u001b[39;00m \u001b[38;5;241m-\u001b[39mcurviness\n",
      "\u001b[1;31mTypeError\u001b[0m: abs() takes no keyword arguments"
     ]
    },
    {
     "data": {
      "image/png": "[encoded data removed]",
      "text/plain": [
       "<Figure size 1200x1800 with 3 Axes>"
      ]
     },
     "metadata": {},
     "output_type": "display_data"
    }
   ],
   "source": [
    "# Parameters for the genetic algorithm\n",
    "population_size = 100\n",
    "lower_bound = -50\n",
    "upper_bound = 50\n",
    "generations = 20\n",
    "mutation_rate = 1\n",
    "\n",
    "# Run the GA\n",
    "best_solution = genetic_algorithm(population_size, lower_bound, upper_bound, generations, mutation_rate)\n",
    "print(f\"Best solution found: a = {best_solution[0]}, b = {best_solution[1]}, c = {best_solution[2]}\")"
   ]
  },
  {
   "cell_type": "markdown",
   "metadata": {},
   "source": []
  }
 ],
 "metadata": {
  "kernelspec": {
   "display_name": "Python 3",
   "language": "python",
   "name": "python3"
  },
  "language_info": {
   "codemirror_mode": {
    "name": "ipython",
    "version": 3
   },
   "file_extension": ".py",
   "mimetype": "text/x-python",
   "name": "python",
   "nbconvert_exporter": "python",
   "pygments_lexer": "ipython3",
   "version": "3.13.0"
  }
 },
 "nbformat": 4,
 "nbformat_minor": 2
}
