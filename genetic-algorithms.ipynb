{
 "cells": [
  {
   "cell_type": "markdown",
   "metadata": {},
   "source": [
    "Genetic Algorithm - An algorithm that pits different solutions against each other and uses selection to \"evolve\" them into the best solution."
   ]
  },
  {
   "cell_type": "markdown",
   "metadata": {},
   "source": [
    "Genetic algorithms efficiently explore the solution space to discover optimal or near-optimal solutions."
   ]
  },
  {
   "cell_type": "markdown",
   "metadata": {},
   "source": [
    "By mimicking the process of natural selection, GAs can evolve solutions over time, improving their performance iteratively. "
   ]
  },
  {
   "cell_type": "markdown",
   "metadata": {},
   "source": [
    "---"
   ]
  },
  {
   "cell_type": "markdown",
   "metadata": {},
   "source": [
    "**Key Terminology**"
   ]
  },
  {
   "cell_type": "markdown",
   "metadata": {},
   "source": [
    "**Chromosomes** - potential solutions to a problem, typically coded as strings or arrays. Each element in a chromosome corresponds to a gene that determines a specific trait of the solution. "
   ]
  },
  {
   "cell_type": "markdown",
   "metadata": {},
   "source": [
    "**Crossover** - involves exchanging segments of the *'parent'* chromosomes to create new *'individuals'*. This operation introduces variability and allows the *'offspring'* to inherit beneficial traits from both *'parents'*."
   ]
  },
  {
   "cell_type": "markdown",
   "metadata": {},
   "source": [
    "**Mutation** - randomly altering one or more genes. "
   ]
  }
 ],
 "metadata": {
  "language_info": {
   "name": "python"
  }
 },
 "nbformat": 4,
 "nbformat_minor": 2
}
