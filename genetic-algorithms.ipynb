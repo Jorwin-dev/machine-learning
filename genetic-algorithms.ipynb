{
 "cells": [
  {
   "cell_type": "markdown",
   "metadata": {},
   "source": [
    "Genetic Algorithm - An algorithm that pits different solutions against each other and uses selection to \"evolve\" them into the best solution."
   ]
  },
  {
   "cell_type": "markdown",
   "metadata": {},
   "source": [
    "Genetic algorithms efficiently explore the solution space to discover optimal or near-optimal solutions."
   ]
  },
  {
   "cell_type": "markdown",
   "metadata": {},
   "source": [
    "By mimicking the process of natural selection, GAs can evolve solutions over time, improving their performance iteratively. "
   ]
  },
  {
   "cell_type": "markdown",
   "metadata": {},
   "source": [
    "Genetic Algorithms were inspired by evolution. Consequently, the components of a GA share names and functions similar to those of their biological counterparts. "
   ]
  },
  {
   "cell_type": "markdown",
   "metadata": {},
   "source": [
    "---"
   ]
  },
  {
   "cell_type": "markdown",
   "metadata": {},
   "source": [
    "**Key Terminology**"
   ]
  },
  {
   "cell_type": "markdown",
   "metadata": {},
   "source": [
    "**Chromosomes** - potential solutions to a problem, typically coded as strings or arrays. Each element in a chromosome corresponds to a gene that determines a specific trait of the solution. "
   ]
  },
  {
   "cell_type": "markdown",
   "metadata": {},
   "source": [
    "**Crossover** - involves exchanging segments of the *'parent'* chromosomes to create new *'individuals'*. This operation introduces variability and allows the *'offspring'* to inherit beneficial traits from both *'parents'*."
   ]
  },
  {
   "cell_type": "markdown",
   "metadata": {},
   "source": [
    "**Mutation** - randomly altering one or more genes. "
   ]
  },
  {
   "cell_type": "markdown",
   "metadata": {},
   "source": [
    "---"
   ]
  },
  {
   "cell_type": "markdown",
   "metadata": {},
   "source": [
    "**Components of a Genetic Algorithm**"
   ]
  },
  {
   "cell_type": "markdown",
   "metadata": {},
   "source": [
    "**Population** - a set of candidate solutions, often called individuals. Each individual is represented as a chromosome, which can be coded as binary strings, arrays, or other data structures. "
   ]
  },
  {
   "cell_type": "markdown",
   "metadata": {},
   "source": [
    "**Fitness Function** - evaluates each individual's ability to solve the problem we're interested in. It assigns a fitness value to each individual, with higher values for better solutions. The fitness function guides the algorithm toward better solutions. "
   ]
  },
  {
   "cell_type": "markdown",
   "metadata": {},
   "source": [
    "**Selection Function** - chooses individuals from the population to reproduce based on their fitness. Individuals with a higher fitness are more likely to be chosen for reproduction. There are a few different selection methods:\n",
    "- **Roulette Wheel Selection** is where individuals are selected based on a probability proportional to their fitness, similar to spinning a roulette wheel. \n",
    "- **Tournament Selection** is where a subset of individuals is chosen at random and the fittest individual from this subset is selected.\n",
    "- **Rank-based Selection** ranks individuals based on their fitness, then selection probabilities are assigned based on these ranks rather than raw fitness values. "
   ]
  },
  {
   "cell_type": "markdown",
   "metadata": {},
   "source": [
    "**Crossover Function** - combines information from two individuals to create offspring; the goal is to inherit beneficial traits from both parents. Common crossover techniques include:\n",
    "- **Single-point Crossover** which involves choosing a random point and swapping the genetic material from two parents at that point to create two offspring. \n",
    "- **Multi-point Crossover** uses multiple points for swapping segments between parents, allowing for more complex genetic combinations.\n",
    "- **Uniform Crossover** randomly decides which parent will contribute each gene, providing a high level of genetic diversity.\n",
    "- **Blend Crossover** generates offspring by blending the genes of the parents using a random blending factor."
   ]
  },
  {
   "cell_type": "markdown",
   "metadata": {},
   "source": [
    "**Mutation Function** - mutations introduce random changes in the offspring's genetic material. This helps maintain diversity in the population and explores new areas of the solution space. "
   ]
  },
  {
   "cell_type": "markdown",
   "metadata": {},
   "source": [
    "---"
   ]
  },
  {
   "cell_type": "markdown",
   "metadata": {},
   "source": [
    "**The Genetic Algorithm Process**"
   ]
  }
 ],
 "metadata": {
  "language_info": {
   "name": "python"
  }
 },
 "nbformat": 4,
 "nbformat_minor": 2
}
